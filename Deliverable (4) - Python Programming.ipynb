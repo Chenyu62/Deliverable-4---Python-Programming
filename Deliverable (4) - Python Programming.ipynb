{
  "nbformat": 4,
  "nbformat_minor": 0,
  "metadata": {
    "colab": {
      "provenance": [],
      "toc_visible": true
    },
    "kernelspec": {
      "name": "python3",
      "display_name": "Python 3"
    },
    "language_info": {
      "name": "python"
    }
  },
  "cells": [
    {
      "cell_type": "code",
      "source": [
        "import random\n",
        "\n",
        "def populate_list(myinput):\n",
        "    return [random.randint(1, 50) for _ in range(myinput)]\n",
        "\n",
        "def sum_list(lst):\n",
        "    total_sum = 0\n",
        "    for num in lst: total_sum += num\n",
        "    return sum(lst)\n",
        "\n",
        "while True:\n",
        "    user_input = input(\"Enter an integer number between 5 and 15: \")\n",
        "\n",
        "    try: number = int(user_input)\n",
        "\n",
        "        if 5 <= number <= 15:\n",
        "            break\n",
        "        else:\n",
        "            print(\"Please enter a valid number\")\n",
        "\n",
        "lst = populate_list(number)\n",
        "print(\"The elements in the random array are:\", ' '.join(map(str, lst)))\n",
        "\n",
        "total_sum = sum_list(lst)\n",
        "print(\"The sum is:\", total_sum)"
      ],
      "metadata": {
        "colab": {
          "base_uri": "https://localhost:8080/",
          "height": 134
        },
        "id": "qbjQs52RuQ5T",
        "outputId": "f5f4e2dc-4e29-494f-def6-fca002e41819"
      },
      "execution_count": 11,
      "outputs": [
        {
          "output_type": "error",
          "ename": "SyntaxError",
          "evalue": "ignored",
          "traceback": [
            "\u001b[0;36m  File \u001b[0;32m\"<ipython-input-11-a3cc758984cb>\"\u001b[0;36m, line \u001b[0;32m16\u001b[0m\n\u001b[0;31m    if 5 <= number <= 15:\u001b[0m\n\u001b[0m    ^\u001b[0m\n\u001b[0;31mSyntaxError\u001b[0m\u001b[0;31m:\u001b[0m expected 'except' or 'finally' block\n"
          ]
        }
      ]
    }
  ]
}